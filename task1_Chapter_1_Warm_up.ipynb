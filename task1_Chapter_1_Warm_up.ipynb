{
  "nbformat": 4,
  "nbformat_minor": 0,
  "metadata": {
    "colab": {
      "provenance": []
    },
    "kernelspec": {
      "name": "python3",
      "display_name": "Python 3"
    },
    "language_info": {
      "name": "python"
    }
  },
  "cells": [
    {
      "cell_type": "markdown",
      "source": [
        "# Chapter 1: Warm-up Assignment"
      ],
      "metadata": {
        "id": "rldEi_HU7URM"
      }
    },
    {
      "cell_type": "markdown",
      "source": [
        "## Assignment Link https://nlp100.github.io/en/ch01.html#04-atomic-symbols"
      ],
      "metadata": {
        "id": "keSj50UsDuNM"
      }
    },
    {
      "cell_type": "markdown",
      "source": [
        "##00. Reversed string"
      ],
      "metadata": {
        "id": "efWNMbF07X_L"
      }
    },
    {
      "cell_type": "code",
      "source": [
        "\n",
        "org_string = \"stressed\"\n",
        "\n",
        "\n",
        "rev_string = org_string[::-1]\n",
        "\n",
        "print(rev_string)\n"
      ],
      "metadata": {
        "colab": {
          "base_uri": "https://localhost:8080/"
        },
        "id": "3CaV7EGF7deS",
        "outputId": "3d9ccc75-85cf-4e2a-f2fd-4fd941c957a9"
      },
      "execution_count": null,
      "outputs": [
        {
          "output_type": "stream",
          "name": "stdout",
          "text": [
            "desserts\n"
          ]
        }
      ]
    },
    {
      "cell_type": "markdown",
      "source": [
        "##01. “schooled”Permalink"
      ],
      "metadata": {
        "id": "7PcnTbuJ789y"
      }
    },
    {
      "cell_type": "code",
      "source": [
        "\n",
        "org_string = \"schooled\"\n",
        "\n",
        "\n",
        "concat_string = org_string[0] + org_string[2] + org_string[4] + org_string[6]\n",
        "\n",
        "\n",
        "print(concat_string)\n"
      ],
      "metadata": {
        "colab": {
          "base_uri": "https://localhost:8080/"
        },
        "id": "RJbGLUZ28Eph",
        "outputId": "5468ea5c-da19-436b-c73f-a3590f432830"
      },
      "execution_count": null,
      "outputs": [
        {
          "output_type": "stream",
          "name": "stdout",
          "text": [
            "shoe\n"
          ]
        }
      ]
    },
    {
      "cell_type": "markdown",
      "source": [
        "##02. “shoe” + “cold” = “schooled”"
      ],
      "metadata": {
        "id": "kcwFNO168olO"
      }
    },
    {
      "cell_type": "code",
      "source": [
        "\n",
        "string1 = \"shoe\"\n",
        "string2 = \"cold\"\n",
        "\n",
        "\n",
        "concat_string = \"\"\n",
        "for char1, char2 in zip(string1, string2):\n",
        "    concat_string += char1 + char2\n",
        "\n",
        "\n",
        "print(concat_string)\n"
      ],
      "metadata": {
        "colab": {
          "base_uri": "https://localhost:8080/"
        },
        "id": "pVR-7xIm8xJq",
        "outputId": "ae52df31-0ef2-4a86-8cac-603809f086e0"
      },
      "execution_count": null,
      "outputs": [
        {
          "output_type": "stream",
          "name": "stdout",
          "text": [
            "schooled\n"
          ]
        }
      ]
    },
    {
      "cell_type": "markdown",
      "source": [
        "##03. PiPermalink"
      ],
      "metadata": {
        "id": "UOnWy2ME9Ipc"
      }
    },
    {
      "cell_type": "code",
      "source": [
        "\n",
        "sentence = \"Now I need a drink, alcoholic of course, after the heavy lectures involving quantum mechanics\"\n",
        "\n",
        "words = sentence.split()\n",
        "print(words)\n",
        "\n",
        "\n",
        "letter_counts = [sum(char.isalpha() for char in word) for word in words]\n",
        "\n",
        "print(\"final result:\" , letter_counts)\n"
      ],
      "metadata": {
        "colab": {
          "base_uri": "https://localhost:8080/"
        },
        "id": "pjDtc3Nc9Sjp",
        "outputId": "ba17b2bf-b880-4da7-cf66-46b4d6c5321f"
      },
      "execution_count": null,
      "outputs": [
        {
          "output_type": "stream",
          "name": "stdout",
          "text": [
            "['Now', 'I', 'need', 'a', 'drink,', 'alcoholic', 'of', 'course,', 'after', 'the', 'heavy', 'lectures', 'involving', 'quantum', 'mechanics']\n",
            "final result: [3, 1, 4, 1, 5, 9, 2, 6, 5, 3, 5, 8, 9, 7, 9]\n"
          ]
        }
      ]
    },
    {
      "cell_type": "markdown",
      "source": [
        "## 04. Atomic symbolsPermalink"
      ],
      "metadata": {
        "id": "h6uMI21B9x6S"
      }
    },
    {
      "cell_type": "code",
      "source": [
        "\n",
        "sentence = \"Hi He Lied Because Boron Could Not Oxidize Fluorine. New Nations Might Also Sign Peace Security Clause. Arthur King Can\"\n",
        "\n",
        "\n",
        "words = sentence.split()\n",
        "\n",
        "\n",
        "symbol_map = {}\n",
        "\n",
        "first_letter_indices = [0, 4, 5, 6, 7, 8, 14, 15, 18]\n",
        "\n",
        "for i, word in enumerate(words):\n",
        "    if i in first_letter_indices:\n",
        "        extracted_letters = word[0]\n",
        "    else:\n",
        "        extracted_letters = word[:2]\n",
        "\n",
        "\n",
        "    symbol_map[extracted_letters] = i\n",
        "\n",
        "print(symbol_map)\n"
      ],
      "metadata": {
        "colab": {
          "base_uri": "https://localhost:8080/"
        },
        "id": "eM-eT2ZL98iS",
        "outputId": "189fdbe4-e290-48f8-bd72-47189e7f1114"
      },
      "execution_count": null,
      "outputs": [
        {
          "output_type": "stream",
          "name": "stdout",
          "text": [
            "{'H': 0, 'He': 1, 'Li': 2, 'Be': 3, 'B': 4, 'C': 5, 'N': 6, 'O': 7, 'F': 8, 'Ne': 9, 'Na': 10, 'Mi': 11, 'Al': 12, 'Si': 13, 'P': 14, 'S': 15, 'Cl': 16, 'Ar': 17, 'K': 18, 'Ca': 19}\n"
          ]
        }
      ]
    },
    {
      "cell_type": "markdown",
      "source": [
        " ##05. n-gramPermalink"
      ],
      "metadata": {
        "id": "luSV3HmJ-RY6"
      }
    },
    {
      "cell_type": "code",
      "source": [
        "def ngrams(sequence, n):\n",
        "    ngrams = []\n",
        "    for i in range(len(sequence) - n + 1):\n",
        "        ngrams.append(sequence[i:i + n])\n",
        "    return ngrams\n",
        "\n",
        "sentence = \"I am an NLPer\"\n",
        "word_bigrams = ngrams(sentence.split(), 2)\n",
        "letter_bigrams = ngrams(sentence, 2)\n",
        "\n",
        "\n",
        "print(\"Word Bi-grams:\", word_bigrams)\n",
        "print(\"Letter Bi-grams:\", letter_bigrams)\n"
      ],
      "metadata": {
        "colab": {
          "base_uri": "https://localhost:8080/"
        },
        "id": "Fkz2pXhf-ZFA",
        "outputId": "18ccd7ec-6b53-40dc-b44c-72f88c81ca6e"
      },
      "execution_count": null,
      "outputs": [
        {
          "output_type": "stream",
          "name": "stdout",
          "text": [
            "Word Bi-grams: [['I', 'am'], ['am', 'an'], ['an', 'NLPer']]\n",
            "Letter Bi-grams: ['I ', ' a', 'am', 'm ', ' a', 'an', 'n ', ' N', 'NL', 'LP', 'Pe', 'er']\n"
          ]
        }
      ]
    },
    {
      "cell_type": "markdown",
      "source": [
        "## 06. SetPermalink"
      ],
      "metadata": {
        "id": "J6tkAowT-7W7"
      }
    },
    {
      "cell_type": "code",
      "source": [
        "def get_bigrams(word):\n",
        "    \"\"\"Generate letter bi-grams from a word.\"\"\"\n",
        "    return {word[i:i+2] for i in range(len(word) - 1)}\n",
        "\n",
        "# Words\n",
        "word1 = \"paraparaparadise\"\n",
        "word2 = \"paragraph\"\n",
        "\n",
        "X = get_bigrams(word1)\n",
        "Y = get_bigrams(word2)\n",
        "\n",
        "# set operations\n",
        "union_XY = X.union(Y)\n",
        "intersection_XY = X.intersection(Y)\n",
        "difference_XY = X.difference(Y)\n",
        "\n",
        "# to check  \"se\" is in X and Y\n",
        "is_se_in_X = \"se\" in X\n",
        "is_se_in_Y = \"se\" in Y\n",
        "\n",
        "# Results\n",
        "print(\"Set X:\", X)\n",
        "print(\"Set Y:\", Y)\n",
        "print(\"Union (X ∪ Y):\", union_XY)\n",
        "print(\"Intersection (X ∩ Y):\", intersection_XY)\n",
        "print(\"Difference (X - Y):\", difference_XY)\n",
        "print(\"'se' in X:\", is_se_in_X)\n",
        "print(\"'se' in Y:\", is_se_in_Y)\n"
      ],
      "metadata": {
        "colab": {
          "base_uri": "https://localhost:8080/"
        },
        "id": "z9mHK8v5-9vi",
        "outputId": "59c0b7e3-8388-48b7-a0fc-c890b91e23b5"
      },
      "execution_count": null,
      "outputs": [
        {
          "output_type": "stream",
          "name": "stdout",
          "text": [
            "Set X: {'pa', 'ar', 'ra', 'ad', 'di', 'ap', 'se', 'is'}\n",
            "Set Y: {'ag', 'pa', 'ar', 'gr', 'ra', 'ph', 'ap'}\n",
            "Union (X ∪ Y): {'ag', 'pa', 'ar', 'ra', 'gr', 'ad', 'di', 'ph', 'ap', 'se', 'is'}\n",
            "Intersection (X ∩ Y): {'ar', 'ap', 'ra', 'pa'}\n",
            "Difference (X - Y): {'is', 'ad', 'se', 'di'}\n",
            "'se' in X: True\n",
            "'se' in Y: False\n"
          ]
        }
      ]
    },
    {
      "cell_type": "code",
      "source": [],
      "metadata": {
        "id": "buNKIPDs_iDb"
      },
      "execution_count": null,
      "outputs": []
    },
    {
      "cell_type": "markdown",
      "source": [
        "##07. Template-based sentence generation"
      ],
      "metadata": {
        "id": "uLOOzRhX_icS"
      }
    },
    {
      "cell_type": "code",
      "source": [
        "def generate_sentence(x, y, z):\n",
        "    return f\"{y} is {z} at {x}\"\n",
        "\n",
        "x = 12\n",
        "y = \"temperature\"\n",
        "z = 22.4\n",
        "result = generate_sentence(x, y, z)\n",
        "\n",
        "\n",
        "print(result)\n"
      ],
      "metadata": {
        "colab": {
          "base_uri": "https://localhost:8080/"
        },
        "id": "byXfBLxi_tMo",
        "outputId": "c8dc2eb3-eaf2-48f6-a7d9-d49cb51ad975"
      },
      "execution_count": null,
      "outputs": [
        {
          "output_type": "stream",
          "name": "stdout",
          "text": [
            "temperature is 22.4 at 12\n"
          ]
        }
      ]
    },
    {
      "cell_type": "markdown",
      "source": [
        "##08. cipher textPermalink"
      ],
      "metadata": {
        "id": "Vk-2KG0d__mJ"
      }
    },
    {
      "cell_type": "code",
      "source": [
        "def cipher(text):\n",
        "    \"\"\"Cipher a given text.\"\"\"\n",
        "    ciphered_text = \"\"\n",
        "    for char in text:\n",
        "        if char.islower() and char.isalpha():\n",
        "            ciphered_char = chr(219 - ord(char))\n",
        "        else:\n",
        "            ciphered_char = char\n",
        "        ciphered_text += ciphered_char\n",
        "    return ciphered_text\n",
        "\n",
        "def decipher(ciphered_text):\n",
        "    \"\"\"Decipher a given ciphered text.\"\"\"\n",
        "    deciphered_text = \"\"\n",
        "    for char in ciphered_text:\n",
        "        if char.islower() and char.isalpha():\n",
        "            deciphered_char = chr(219 - ord(char))\n",
        "        else:\n",
        "            deciphered_char = char\n",
        "        deciphered_text += deciphered_char\n",
        "    return deciphered_text\n",
        "\n",
        "original_message = \"Hello,i am Suraj Bhattarai and currently living  in  Kathmandu Nepal\"\n",
        "ciphered_message = cipher(original_message)\n",
        "print(\"Ciphered:\", ciphered_message)\n",
        "\n",
        "deciphered_message = decipher(ciphered_message)\n",
        "print(\"Deciphered:\", deciphered_message)\n"
      ],
      "metadata": {
        "colab": {
          "base_uri": "https://localhost:8080/"
        },
        "id": "Ia7HiTnYAFMR",
        "outputId": "b9d1c5ba-45f1-4910-bef7-53f765eeff6d"
      },
      "execution_count": null,
      "outputs": [
        {
          "output_type": "stream",
          "name": "stdout",
          "text": [
            "Ciphered: Hvool,r zn Csrgiz Mzsziz zmw xfiivmgob orermt zg Kblgl\n",
            "Deciphered: Hello,i am Chitra Mahara and currently living at Kyoto\n"
          ]
        }
      ]
    },
    {
      "cell_type": "markdown",
      "source": [
        "##09. TypoglycemiaPermalink"
      ],
      "metadata": {
        "id": "t119KBPhBl2M"
      }
    },
    {
      "cell_type": "code",
      "source": [
        "import random\n",
        "\n",
        "def typoglycemia(sentence):\n",
        "    # Split\n",
        "    words = sentence.split()\n",
        "\n",
        "    for i in range(len(words)):\n",
        "        word = words[i]\n",
        "        if len(word) > 4:\n",
        "            # Shuffling\n",
        "            middle_letters = list(word[1:-1])\n",
        "            random.shuffle(middle_letters)\n",
        "            shuffled_word = word[0] + ''.join(middle_letters) + word[-1]\n",
        "            words[i] = shuffled_word\n",
        "\n",
        "    modified_sentence = ' '.join(words)\n",
        "    return modified_sentence\n",
        "\n",
        "# Test\n",
        "sentence = \"I couldn’t believe that I could actually understand what I was reading : the phenomenal power of the human mind\"\n",
        "result = typoglycemia(sentence)\n",
        "print(result)\n"
      ],
      "metadata": {
        "colab": {
          "base_uri": "https://localhost:8080/"
        },
        "id": "2S4I6PV0CMb3",
        "outputId": "f068fd7e-75a1-4135-bf41-9cbc77151e80"
      },
      "execution_count": null,
      "outputs": [
        {
          "output_type": "stream",
          "name": "stdout",
          "text": [
            "I c’uonldt bevliee that I cluod alucltay untsrnaedd what I was rdinaeg : the pmhnenoeal poewr of the hmaun mind\n"
          ]
        }
      ]
    }
  ]
}