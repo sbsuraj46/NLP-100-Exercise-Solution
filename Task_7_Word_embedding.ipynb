{
 "cells": [
  {
   "cell_type": "markdown",
   "id": "bae0b059-428f-4565-9da9-453157d8d3ec",
   "metadata": {},
   "source": [
    "\n",
    "# Chapeter 7: Word Embedding\n",
    "\n"
   ]
  },
  {
   "cell_type": "code",
   "execution_count": null,
   "id": "5b0a1f9a-0c93-47e8-a26d-0119581df9ae",
   "metadata": {},
   "outputs": [],
   "source": []
  },
  {
   "cell_type": "code",
   "execution_count": 27,
   "id": "606e236b-8442-4fe2-8799-2dbeef0ed503",
   "metadata": {},
   "outputs": [],
   "source": [
    "# loading required libaries\n",
    "from gensim.models import KeyedVectors\n",
    "import numpy as np\n",
    "from scipy.spatial.distance import cosine\n",
    "from sklearn.cluster import KMeans\n",
    "from scipy.cluster.hierarchy import  dendrogram, linkage\n",
    "import matplotlib.pyplot as plt\n",
    "from  sklearn.manifold import TSNE\n",
    "import pandas as pd \n",
    "from scipy.stats import  spearmanr"
   ]
  },
  {
   "cell_type": "code",
   "execution_count": 2,
   "id": "1943158a-409b-4636-958e-fa4dea1cdfc1",
   "metadata": {},
   "outputs": [],
   "source": [
    "model = KeyedVectors.load_word2vec_format('GoogleNews-vectors-negative300.bin', binary=True)\n"
   ]
  },
  {
   "cell_type": "code",
   "execution_count": 3,
   "id": "a04942df-9f6c-4709-9c31-1ba6b60aacf5",
   "metadata": {},
   "outputs": [
    {
     "name": "stdout",
     "output_type": "stream",
     "text": [
      "3000000\n"
     ]
    }
   ],
   "source": [
    "print(len(model))# Number of word vectors in the model"
   ]
  },
  {
   "cell_type": "code",
   "execution_count": 4,
   "id": "5fa38782-e193-40e0-8cc2-fe4dffb5b6c9",
   "metadata": {},
   "outputs": [
    {
     "name": "stdout",
     "output_type": "stream",
     "text": [
      "300\n"
     ]
    }
   ],
   "source": [
    "# Dimensionality of each word vector\n",
    "vector_size = model.vector_size\n",
    "print(vector_size)"
   ]
  },
  {
   "cell_type": "markdown",
   "id": "742cf665-e731-4424-99b8-e49b18886e33",
   "metadata": {},
   "source": [
    " Task 60: Print out the word vector of the term \"United States\""
   ]
  },
  {
   "cell_type": "code",
   "execution_count": 5,
   "id": "2ae5016c-f55d-4375-86c9-49d9c11b69dd",
   "metadata": {},
   "outputs": [
    {
     "name": "stdout",
     "output_type": "stream",
     "text": [
      "vector for 'United States' [-3.61328125e-02 -4.83398438e-02  2.35351562e-01  1.74804688e-01\n",
      " -1.46484375e-01 -7.42187500e-02 -1.01562500e-01 -7.71484375e-02\n",
      "  1.09375000e-01 -5.71289062e-02 -1.48437500e-01 -6.00585938e-02\n",
      "  1.74804688e-01 -7.71484375e-02  2.58789062e-02 -7.66601562e-02\n",
      " -3.80859375e-02  1.35742188e-01  3.75976562e-02 -4.19921875e-02\n",
      " -3.56445312e-02  5.34667969e-02  3.68118286e-04 -1.66992188e-01\n",
      " -1.17187500e-01  1.41601562e-01 -1.69921875e-01 -6.49414062e-02\n",
      " -1.66992188e-01  1.00585938e-01  1.15722656e-01 -2.18750000e-01\n",
      " -9.86328125e-02 -2.56347656e-02  1.23046875e-01 -3.54003906e-02\n",
      " -1.58203125e-01 -1.60156250e-01  2.94189453e-02  8.15429688e-02\n",
      "  6.88476562e-02  1.87500000e-01  6.49414062e-02  1.15234375e-01\n",
      " -2.27050781e-02  3.32031250e-01 -3.27148438e-02  1.77734375e-01\n",
      " -2.08007812e-01  4.54101562e-02 -1.23901367e-02  1.19628906e-01\n",
      "  7.44628906e-03 -9.03320312e-03  1.14257812e-01  1.69921875e-01\n",
      " -2.38281250e-01 -2.79541016e-02 -1.21093750e-01  2.47802734e-02\n",
      "  7.71484375e-02 -2.81982422e-02 -4.71191406e-02  1.78222656e-02\n",
      " -1.23046875e-01 -5.32226562e-02  2.68554688e-02 -3.11279297e-02\n",
      " -5.59082031e-02 -5.00488281e-02 -3.73535156e-02  1.25976562e-01\n",
      "  5.61523438e-02  1.51367188e-01  4.29687500e-02 -2.08007812e-01\n",
      " -4.78515625e-02  2.78320312e-02  1.81640625e-01  2.20703125e-01\n",
      " -3.61328125e-02 -8.39843750e-02 -3.69548798e-05 -9.52148438e-02\n",
      " -1.25000000e-01 -1.95312500e-01 -1.50390625e-01 -4.15039062e-02\n",
      "  1.31835938e-01  1.17675781e-01  1.91650391e-02  5.51757812e-02\n",
      " -9.42382812e-02 -1.08886719e-01  7.32421875e-02 -1.15234375e-01\n",
      "  8.93554688e-02 -1.40625000e-01  1.45507812e-01  4.49218750e-02\n",
      " -1.10473633e-02 -1.62353516e-02  4.05883789e-03  3.75976562e-02\n",
      " -6.98242188e-02 -5.46875000e-02  2.17285156e-02 -9.47265625e-02\n",
      "  4.24804688e-02  1.81884766e-02 -1.73339844e-02  4.63867188e-02\n",
      " -1.42578125e-01  1.99218750e-01  1.10839844e-01  2.58789062e-02\n",
      " -7.08007812e-02 -5.54199219e-02  3.45703125e-01  1.61132812e-01\n",
      " -2.44140625e-01 -2.59765625e-01 -9.71679688e-02  8.00781250e-02\n",
      " -8.78906250e-02 -7.22656250e-02  1.42578125e-01 -8.54492188e-02\n",
      " -3.18359375e-01  8.30078125e-02  6.34765625e-02  1.64062500e-01\n",
      " -1.92382812e-01 -1.17675781e-01 -5.41992188e-02 -1.56250000e-01\n",
      " -1.21582031e-01 -4.95605469e-02  1.20117188e-01 -3.83300781e-02\n",
      "  5.51757812e-02 -8.97216797e-03  4.32128906e-02  6.93359375e-02\n",
      "  8.93554688e-02  2.53906250e-01  1.65039062e-01  1.64062500e-01\n",
      " -1.41601562e-01  4.58984375e-02  1.97265625e-01 -8.98437500e-02\n",
      "  3.90625000e-02 -1.51367188e-01 -8.60595703e-03 -1.17675781e-01\n",
      " -1.97265625e-01 -1.12792969e-01  1.29882812e-01  1.96289062e-01\n",
      "  1.56402588e-03  3.93066406e-02  2.17773438e-01 -1.43554688e-01\n",
      "  6.03027344e-02 -1.35742188e-01  1.16210938e-01 -1.59912109e-02\n",
      "  2.79296875e-01  1.46484375e-01 -1.19628906e-01  1.76757812e-01\n",
      "  1.28906250e-01 -1.49414062e-01  6.93359375e-02 -1.72851562e-01\n",
      "  9.22851562e-02  1.33056641e-02 -2.00195312e-01 -9.76562500e-02\n",
      " -1.65039062e-01 -2.46093750e-01 -2.35595703e-02 -2.11914062e-01\n",
      "  1.84570312e-01 -1.85546875e-02  2.16796875e-01  5.05371094e-02\n",
      "  2.02636719e-02  4.25781250e-01  1.28906250e-01 -2.77099609e-02\n",
      "  1.29882812e-01 -1.15722656e-01 -2.05078125e-02  1.49414062e-01\n",
      "  7.81250000e-03 -2.05078125e-01 -8.05664062e-02 -2.67578125e-01\n",
      " -2.29492188e-02 -8.20312500e-02  8.64257812e-02  7.61718750e-02\n",
      " -3.66210938e-02  5.22460938e-02 -1.22070312e-01 -1.44042969e-02\n",
      " -2.69531250e-01  8.44726562e-02 -2.52685547e-02 -2.96630859e-02\n",
      " -1.68945312e-01  1.93359375e-01 -1.08398438e-01  1.94091797e-02\n",
      " -1.80664062e-01  1.93359375e-01 -7.08007812e-02  5.85937500e-02\n",
      " -1.01562500e-01 -1.31835938e-01  7.51953125e-02 -7.66601562e-02\n",
      "  3.37219238e-03 -8.59375000e-02  1.25000000e-01  2.92968750e-02\n",
      "  1.70898438e-01 -9.37500000e-02 -1.09375000e-01 -2.50244141e-02\n",
      "  2.11914062e-01 -4.44335938e-02  6.12792969e-02  2.62451172e-02\n",
      " -1.77734375e-01  1.23046875e-01 -7.42187500e-02 -1.67968750e-01\n",
      " -1.08886719e-01 -9.04083252e-04 -7.37304688e-02  5.49316406e-02\n",
      "  6.03027344e-02  8.39843750e-02  9.17968750e-02 -1.32812500e-01\n",
      "  1.22070312e-01 -8.78906250e-03  1.19140625e-01 -1.94335938e-01\n",
      " -6.64062500e-02 -2.07031250e-01  7.37304688e-02  8.93554688e-02\n",
      "  1.81884766e-02 -1.20605469e-01 -2.61230469e-02  2.67333984e-02\n",
      "  7.76367188e-02 -8.30078125e-02  6.78710938e-02 -3.54003906e-02\n",
      "  3.10546875e-01 -2.42919922e-02 -1.41601562e-01 -2.08007812e-01\n",
      " -4.57763672e-03 -6.54296875e-02 -4.95605469e-02  2.22656250e-01\n",
      "  1.53320312e-01 -1.38671875e-01 -5.24902344e-02  4.24804688e-02\n",
      " -2.38281250e-01  1.56250000e-01  5.83648682e-04 -1.20605469e-01\n",
      " -9.22851562e-02 -4.44335938e-02  3.61328125e-02 -1.86767578e-02\n",
      " -8.25195312e-02 -8.25195312e-02 -4.05273438e-02  1.19018555e-02\n",
      "  1.69921875e-01 -2.80761719e-02  3.03649902e-03  9.32617188e-02\n",
      " -8.49609375e-02  1.57470703e-02  7.03125000e-02  1.62353516e-02\n",
      " -2.27050781e-02  3.51562500e-02  2.47070312e-01 -2.67333984e-02]\n"
     ]
    }
   ],
   "source": [
    "vector_united_states = model['United_States']\n",
    "print(\"vector for 'United States'\", vector_united_states)"
   ]
  },
  {
   "cell_type": "markdown",
   "id": "d5a3c515-6baa-4357-a0cf-3dd0c2ae2a96",
   "metadata": {},
   "source": [
    "## 61 Word similarities\n",
    "Compute the cosine similarity between “United States” and “U.S.”Compute the cosine similarity between “United States” and “U.S.”"
   ]
  },
  {
   "cell_type": "code",
   "execution_count": 6,
   "id": "1bcc8960-b170-4f8d-bf8f-e69cec06d7fe",
   "metadata": {},
   "outputs": [
    {
     "name": "stdout",
     "output_type": "stream",
     "text": [
      "Cosine Similarities between 'United States' and 'U.S.' : 0.7310773730278015\n"
     ]
    }
   ],
   "source": [
    "similarity_us_usa = 1- cosine(model['United_States'], model['U.S.'])\n",
    "print(\"Cosine Similarities between 'United States' and 'U.S.' :\" , similarity_us_usa)\n",
    "                                                            "
   ]
  },
  {
   "cell_type": "markdown",
   "id": "61761cd2-293e-41ef-9b26-6cddc019c8c2",
   "metadata": {},
   "source": [
    "## 62. Top-10 most similar words\n",
    "Find the top-10 words that have the highest cosine similarity with the word “United States” and print out the similarity score.62. "
   ]
  },
  {
   "cell_type": "code",
   "execution_count": 7,
   "id": "87febd5f-dda8-42b5-b923-098f11dc37d1",
   "metadata": {},
   "outputs": [
    {
     "name": "stdout",
     "output_type": "stream",
     "text": [
      "[('Unites_States', 0.7877248525619507), ('Untied_States', 0.7541370987892151), ('United_Sates', 0.7400724291801453), ('U.S.', 0.7310774326324463), ('theUnited_States', 0.6404393911361694), ('America', 0.6178410053253174), ('UnitedStates', 0.6167312264442444), ('Europe', 0.6132988929748535), ('countries', 0.6044804453849792), ('Canada', 0.601906955242157)]\n"
     ]
    }
   ],
   "source": [
    "similar_words = model.similar_by_word('United_States', topn=10)\n",
    "# print(\"Top-10 words most similar to 'United States :'\")\n",
    "print(similar_words)\n"
   ]
  },
  {
   "cell_type": "code",
   "execution_count": 8,
   "id": "75c9a65f-991c-4ad4-9299-07d0385e91a6",
   "metadata": {},
   "outputs": [
    {
     "name": "stdout",
     "output_type": "stream",
     "text": [
      "<class 'list'>\n"
     ]
    }
   ],
   "source": [
    "print(type(similar_words))"
   ]
  },
  {
   "cell_type": "code",
   "execution_count": 9,
   "id": "4cfb14a7-477b-4e86-a29a-874e6a834aef",
   "metadata": {},
   "outputs": [
    {
     "name": "stdout",
     "output_type": "stream",
     "text": [
      "Unites_States:0.7877248525619507\n",
      "Untied_States:0.7541370987892151\n",
      "United_Sates:0.7400724291801453\n",
      "U.S.:0.7310774326324463\n",
      "theUnited_States:0.6404393911361694\n",
      "America:0.6178410053253174\n",
      "UnitedStates:0.6167312264442444\n",
      "Europe:0.6132988929748535\n",
      "countries:0.6044804453849792\n",
      "Canada:0.601906955242157\n"
     ]
    }
   ],
   "source": [
    "for word, score in similar_words:\n",
    "    print(f\"{word}:{score}\")"
   ]
  },
  {
   "cell_type": "markdown",
   "id": "ce04f828-168d-4815-8f01-c4e22e3b80a0",
   "metadata": {},
   "source": [
    "## 63. Analogy based on the additive compositionPermalink\n",
    "Subtract the vector of “Madrid” from the vector of “Spain” and then add the vector of “Athens”. Compute the top-10 most similar words with the output vector.63. Analogy based on the additive compositionPermalink\n",
    "Subtract the vector of “Madrid” from the vector of “Spain” and then add the vector of “Athens”. Compute the top-10 most similar words with the output vector."
   ]
  },
  {
   "cell_type": "code",
   "execution_count": 10,
   "id": "e59411a0-7352-4175-a190-b4524fae7a47",
   "metadata": {},
   "outputs": [
    {
     "name": "stdout",
     "output_type": "stream",
     "text": [
      "top-10 words for the analogy 'Spain -Madrid +Athens':\n",
      "Athens:0.7528455853462219\n",
      "Greece:0.6685472130775452\n",
      "Aristeidis_Grigoriadis:0.5495778322219849\n",
      "Ioannis_Drymonakos:0.5361457467079163\n",
      "Greeks:0.5351786017417908\n",
      "Ioannis_Christou:0.5330225825309753\n",
      "Hrysopiyi_Devetzi:0.5088489055633545\n",
      "Iraklion:0.5059264302253723\n",
      "Greek:0.5040615797042847\n",
      "Athens_Greece:0.5034108757972717\n"
     ]
    }
   ],
   "source": [
    "analogy_vector = (model['Spain']-model['Madrid'] )+ model['Athens']\n",
    "similar_words_analogy = model.similar_by_vector(analogy_vector , topn =10)\n",
    "print(\"top-10 words for the analogy 'Spain -Madrid +Athens':\")\n",
    "for word , score in similar_words_analogy:\n",
    "    print(f\"{word}:{score}\")\n",
    "          "
   ]
  },
  {
   "cell_type": "markdown",
   "id": "f347be8e-0676-4711-b12d-2de0a3ec396b",
   "metadata": {},
   "source": [
    "## 64. Analogy data experiment\n",
    "Download word analogy evaluation dataset. Compute the vector as follows: vec(word in second column) - vec(word in first column) + vec(word in third column). From the output vector, (1) find the most similar word and (2) compute the similarity score with the word. Append the most similar word and its similarity to each row of the downloaded file.\n"
   ]
  },
  {
   "cell_type": "code",
   "execution_count": null,
   "id": "c4cb7459-caa9-438a-a742-6b58bce6c90e",
   "metadata": {},
   "outputs": [],
   "source": [
    "import urllib.request\n",
    "from gensim.models import KeyedVectors\n",
    "from multiprocessing import Pool, cpu_count\n",
    "\n",
    "# Download analogy dataset\n",
    "url = 'http://download.tensorflow.org/data/questions-words.txt'\n",
    "urllib.request.urlretrieve(url, 'questions-words.txt')\n",
    "\n",
    " #Function to process each analogy\n",
    "def process_analogy(line):\n",
    "    word1, word2, word3, _ = line.split()\n",
    "    if word1 in model and word2 in model and word3 in model:\n",
    "        vector = model[word2] - model[word1] + model[word3]\n",
    "        most_similar = model.similar_by_vector(vector, topn=1)[0]\n",
    "        return f\"{line.strip()} {most_similar[0]} {most_similar[1]}\\n\"\n",
    "    else:\n",
    "        return f\"{line.strip()} None None\\n\"\n",
    "\n",
    "# Function to process a chunk of lines\n",
    "def process_chunk(lines):\n",
    "    return [process_analogy(line) for line in lines if not line.startswith(':')]\n",
    "\n",
    "# Load the dataset and split it into chunks\n",
    "def load_and_split_dataset(file_path, chunk_size=100):\n",
    "    with open(file_path, 'r') as file:\n",
    "        lines = file.readlines()\n",
    "    \n",
    "    chunks = [lines[i:i + chunk_size] for i in range(0, len(lines), chunk_size)]\n",
    "    return chunks\n",
    "\n",
    "# Process the dataset in parallel\n",
    "def process_dataset_in_parallel(file_path, chunk_size=100, num_workers=4):\n",
    "    chunks = load_and_split_dataset(file_path, chunk_size)\n",
    "    \n",
    "    with Pool(num_workers) as pool:\n",
    "        results = pool.map(process_chunk, chunks)\n",
    "    \n",
    "    output_lines = []\n",
    "    for chunk in results:\n",
    "        output_lines.extend(chunk)\n",
    "    \n",
    "    return output_lines\n",
    "\n",
    "# Process the dataset and write the output to a file\n",
    "output_lines = process_dataset_in_parallel('questions-words.txt', chunk_size=100, num_workers=cpu_count())\n",
    "\n",
    "# Write the results to a file\n",
    "with open('questions-words-processed.txt', 'w') as file:\n",
    "    file.writelines(output_lines)\n",
    "\n",
    "print(\"Processing complete.\")"
   ]
  },
  {
   "cell_type": "markdown",
   "id": "670aa874-10bb-47a3-b203-c66b86c44a21",
   "metadata": {},
   "source": [
    "## I tried different methods, including parallel processing, but my laptop didn't work well with any method due to its processing power. Therefore, I am unable to complete task 64. "
   ]
  },
  {
   "cell_type": "code",
   "execution_count": null,
   "id": "b3d4d536-0df4-4f8e-bb4a-91a719a16cf5",
   "metadata": {},
   "outputs": [],
   "source": []
  },
  {
   "cell_type": "code",
   "execution_count": 11,
   "id": "2ebc3988-9cc5-4aa9-9e70-ea3f9154386f",
   "metadata": {},
   "outputs": [
    {
     "name": "stdout",
     "output_type": "stream",
     "text": [
      "Spearman's rank correlation coefficient: 0.7000166486272194\n"
     ]
    }
   ],
   "source": [
    "import pandas as pd\n",
    "from scipy.stats import spearmanr\n",
    "\n",
    "# # Download WordSimilarity-353 dataset\n",
    "# url = 'http://www.cs.technion.ac.il/~gabr/resources/data/wordsim353/wordsim353.zip'\n",
    "# urllib.request.urlretrieve(url, 'wordsim353.zip')\n",
    "\n",
    "# # Extract and load the dataset\n",
    "# import zipfile\n",
    "# with zipfile.ZipFile('wordsim353.zip', 'r') as zip_ref:\n",
    "#     zip_ref.extractall()\n",
    "\n",
    "similarity_data = pd.read_csv('combined.csv')\n",
    "\n",
    "# Compute similarity using word vectors\n",
    "similarities = []\n",
    "for index, row in similarity_data.iterrows():\n",
    "    word1, word2 = row['Word 1'], row['Word 2']\n",
    "    if word1 in model and word2 in model:\n",
    "        sim = model.similarity(word1, word2)\n",
    "        similarities.append(sim)\n",
    "    else:\n",
    "        similarities.append(None)\n",
    "\n",
    "similarity_data['Vector Similarity'] = similarities\n",
    "\n",
    "# Drop rows with missing values\n",
    "similarity_data = similarity_data.dropna()\n",
    "\n",
    "# Compute Spearman's rank correlation coefficient\n",
    "human_similarity = similarity_data['Human (mean)']\n",
    "vector_similarity = similarity_data['Vector Similarity']\n",
    "correlation, _ = spearmanr(human_similarity, vector_similarity)\n",
    "print(\"Spearman's rank correlation coefficient:\", correlation)\n"
   ]
  },
  {
   "cell_type": "markdown",
   "id": "82aed576-9b01-4712-8bfd-4c1bd8af8b44",
   "metadata": {},
   "source": [
    "## 67. k-means clustering\n",
    "Extract the word vectors of the country names. Apply k-means clustering where k=5"
   ]
  },
  {
   "cell_type": "code",
   "execution_count": 21,
   "id": "cfc3d5d6-1d2e-4c1c-8f32-0e28d51da7ba",
   "metadata": {},
   "outputs": [
    {
     "name": "stdout",
     "output_type": "stream",
     "text": [
      "Cluster 1: ['United_Kingdom', 'Canada']\n",
      "Cluster 2: ['Brazil']\n",
      "Cluster 3: ['China', 'India']\n",
      "Cluster 4: ['France', 'Germany', 'Italy', 'Spain']\n",
      "Cluster 5: ['Australia']\n"
     ]
    },
    {
     "name": "stderr",
     "output_type": "stream",
     "text": [
      "C:\\Users\\ASUS\\AppData\\Local\\Programs\\Python\\Python311\\Lib\\site-packages\\sklearn\\cluster\\_kmeans.py:870: FutureWarning: The default value of `n_init` will change from 10 to 'auto' in 1.4. Set the value of `n_init` explicitly to suppress the warning\n",
      "  warnings.warn(\n"
     ]
    }
   ],
   "source": [
    "# List of country names\n",
    "countries = ['France', 'Germany', 'Italy', 'Spain', 'United_Kingdom', 'Canada', 'Australia', 'China', 'India', 'Brazil']\n",
    "\n",
    "# Extract word vectors for the countries\n",
    "country_vectors = [model[country] for country in countries if country in model]\n",
    "\n",
    "# Apply k-means clustering with k=5\n",
    "from sklearn.cluster import KMeans\n",
    "kmeans = KMeans(n_clusters=5, random_state=0).fit(country_vectors)\n",
    "\n",
    "# Print the clusters\n",
    "for i in range(5):\n",
    "    cluster = [countries[j] for j in range(len(countries)) if kmeans.labels_[j] == i]\n",
    "    print(f\"Cluster {i+1}: {cluster}\")\n",
    "\n"
   ]
  },
  {
   "cell_type": "markdown",
   "id": "0a6ac680-974d-4442-bc3b-9e54b42ca69a",
   "metadata": {},
   "source": [
    "## 68. Ward’s method clustering\n",
    "Apply hierarchical clustering to the word vectors of the country names. Use Ward’s method for the distance metric between two clusters. Visualize the clustering result as the dendrogram."
   ]
  },
  {
   "cell_type": "code",
   "execution_count": 22,
   "id": "c57e937c-e0a4-4e9a-af81-795a2b570601",
   "metadata": {},
   "outputs": [
    {
     "data": {
      "image/png": "[encoded data removed]",
      "text/plain": [
       "<Figure size 1000x700 with 1 Axes>"
      ]
     },
     "metadata": {},
     "output_type": "display_data"
    },
    {
     "data": {
      "image/png": "[encoded data removed]",
      "text/plain": [
       "<Figure size 1000x700 with 1 Axes>"
      ]
     },
     "metadata": {},
     "output_type": "display_data"
    }
   ],
   "source": [
    "# Apply hierarchical clustering using Ward’s method\n",
    "linked = linkage(country_vectors, method='ward')\n",
    "\n",
    "# Plot the dendrogram\n",
    "plt.figure(figsize=(10, 7))\n",
    "dendrogram(linked, labels=countries)\n",
    "plt.title('Dendrogram using Ward’s method')\n",
    "plt.show()# Apply hierarchical clustering using Ward’s method\n",
    "linked = linkage(country_vectors, method='ward')\n",
    "\n",
    "# Plot the dendrogram\n",
    "plt.figure(figsize=(10, 7))\n",
    "dendrogram(linked, labels=countries)\n",
    "plt.title('Dendrogram using Ward’s method')\n",
    "plt.show()"
   ]
  },
  {
   "cell_type": "markdown",
   "id": "594c2c7e-ea8a-47d9-8585-edb811610325",
   "metadata": {},
   "source": [
    "## 69. t-SNE VisualizationPermalink\n",
    "Visualize the word vector space of the country names by t-SN"
   ]
  },
  {
   "cell_type": "code",
   "execution_count": 26,
   "id": "c71b83d6-ee16-4b87-b78c-9b63ca27129e",
   "metadata": {},
   "outputs": [
    {
     "data": {
      "image/png": "[encoded data removed]",
      "text/plain": [
       "<Figure size 1000x700 with 1 Axes>"
      ]
     },
     "metadata": {},
     "output_type": "display_data"
    }
   ],
   "source": [
    "\n",
    "\n",
    "# Convert country_vectors list to NumPy array\n",
    "country_vectors_array = np.array(country_vectors)\n",
    "\n",
    "# Apply t-SNE to reduce dimensions with a lower perplexity value\n",
    "tsne = TSNE(n_components=2, perplexity=5, random_state=0)  # Adjust perplexity as needed\n",
    "country_vectors_2d = tsne.fit_transform(country_vectors_array)\n",
    "\n",
    "# Plot the t-SNE result\n",
    "plt.figure(figsize=(10, 7))\n",
    "plt.scatter(country_vectors_2d[:, 0], country_vectors_2d[:, 1])\n",
    "for i, country in enumerate(countries):\n",
    "    plt.annotate(country, (country_vectors_2d[i, 0], country_vectors_2d[i, 1]))\n",
    "plt.title('t-SNE Visualization of Country Vectors')\n",
    "plt.xlabel('t-SNE Component 1')\n",
    "plt.ylabel('t-SNE Component 2')\n",
    "plt.show()"
   ]
  },
  {
   "cell_type": "code",
   "execution_count": null,
   "id": "0b592673-11b8-47ec-9e43-56ccef52e66d",
   "metadata": {},
   "outputs": [],
   "source": []
  },
  {
   "cell_type": "code",
   "execution_count": null,
   "id": "92d1a1c0-75b1-4e77-b747-4308f0344bcb",
   "metadata": {},
   "outputs": [],
   "source": []
  }
 ],
 "metadata": {
  "kernelspec": {
   "display_name": "Python 3 (ipykernel)",
   "language": "python",
   "name": "python3"
  },
  "language_info": {
   "codemirror_mode": {
    "name": "ipython",
    "version": 3
   },
   "file_extension": ".py",
   "mimetype": "text/x-python",
   "name": "python",
   "nbconvert_exporter": "python",
   "pygments_lexer": "ipython3",
   "version": "3.11.2"
  }
 },
 "nbformat": 4,
 "nbformat_minor": 5
}
